{
 "cells": [
  {
   "cell_type": "markdown",
   "id": "c50a2349-3a70-43bb-85e1-e6bc23134696",
   "metadata": {},
   "source": [
    "#DataScienceToolsOverview\n"
   ]
  },
  {
   "cell_type": "markdown",
   "id": "814607dc-c8f7-474a-a828-d780d649994a",
   "metadata": {},
   "source": [
    "This project explores various data science tools and their uses\n"
   ]
  },
  {
   "cell_type": "markdown",
   "id": "335ce8dd-7970-47a9-af96-4429a965130e",
   "metadata": {},
   "source": [
    "Data Science Languages:\r\n",
    "1. Python\r\n",
    "2. R\r\n",
    "3. SQL\r\n"
   ]
  },
  {
   "cell_type": "markdown",
   "id": "f01cc289-afb5-4731-9dc4-4699551e12ac",
   "metadata": {},
   "source": [
    "Data Science Libraries:\r\n",
    "1. Pandas\r\n",
    "2. NumPy\r\n",
    "3. Matplotlib\r\n"
   ]
  },
  {
   "cell_type": "markdown",
   "id": "58166851-3f16-4d23-8a3f-77440faf7b4d",
   "metadata": {},
   "source": [
    "| Tool        | Description          |\r\n",
    "|-------------|----------------------|\r\n",
    "| Jupyter     | Notebook for coding  |\r\n",
    "| RStudio     | IDE for R            |\r\n",
    "| Apache Spark| Big data processing  |\r\n"
   ]
  },
  {
   "cell_type": "markdown",
   "id": "515238c7-ead2-43d6-ad10-2d59b478b93a",
   "metadata": {},
   "source": [
    "arithmetic expressions are used to solve various maths operations."
   ]
  },
  {
   "cell_type": "code",
   "execution_count": 2,
   "id": "ab7261a2-3d1b-4146-9a21-79babe43416b",
   "metadata": {},
   "outputs": [
    {
     "data": {
      "text/plain": [
       "23"
      ]
     },
     "execution_count": 2,
     "metadata": {},
     "output_type": "execute_result"
    }
   ],
   "source": [
    "# Example of multiplication and addition\n",
    "result = (5 * 4) + 3\n",
    "result\n"
   ]
  },
  {
   "cell_type": "code",
   "execution_count": 4,
   "id": "2a1b7dd6-9242-46f6-9e9d-4b1d0640e75d",
   "metadata": {},
   "outputs": [
    {
     "data": {
      "text/plain": [
       "2.0"
      ]
     },
     "execution_count": 4,
     "metadata": {},
     "output_type": "execute_result"
    }
   ],
   "source": [
    "# Convert minutes to hours\n",
    "minutes = 120\n",
    "hours = minutes / 60\n",
    "hours\n"
   ]
  },
  {
   "cell_type": "markdown",
   "id": "1eb07fc8-c2fe-4e15-973c-4ca8f8b9b30f",
   "metadata": {},
   "source": [
    "Objectives:\r\n",
    "- Learn data science tools\r\n",
    "- Understand key libraries\r\n",
    "- Practice coding\r\n"
   ]
  },
  {
   "cell_type": "markdown",
   "id": "5d36e93f-f33f-4fd7-8a86-8fe36e9d3f41",
   "metadata": {},
   "source": [
    "Author: Aryan Kale\r\n"
   ]
  }
 ],
 "metadata": {
  "kernelspec": {
   "display_name": "Python 3 (ipykernel)",
   "language": "python",
   "name": "python3"
  },
  "language_info": {
   "codemirror_mode": {
    "name": "ipython",
    "version": 3
   },
   "file_extension": ".py",
   "mimetype": "text/x-python",
   "name": "python",
   "nbconvert_exporter": "python",
   "pygments_lexer": "ipython3",
   "version": "3.11.4"
  }
 },
 "nbformat": 4,
 "nbformat_minor": 5
}
